{
 "cells": [
  {
   "cell_type": "markdown",
   "id": "6a119395",
   "metadata": {},
   "source": [
    "## Stock Market Prediction And Forecasting Using Stacked LSTM\n",
    "\n",
    "CodeClause Internship\n",
    "\n",
    "Task 1\n",
    "\n",
    "Deepak Prajapat"
   ]
  },
  {
   "cell_type": "code",
   "execution_count": 1,
   "id": "22e5e5f9",
   "metadata": {},
   "outputs": [],
   "source": [
    "import pandas as pd\n"
   ]
  },
  {
   "cell_type": "code",
   "execution_count": 2,
   "id": "8709b252",
   "metadata": {},
   "outputs": [],
   "source": [
    "# firstly we collect the stock data\n",
    "df= pd.read_csv(r\"https://raw.githubusercontent.com/mwitiderrick/stockprice/master/NSE-TATAGLOBAL.csv\")"
   ]
  },
  {
   "cell_type": "code",
   "execution_count": 3,
   "id": "feebed00",
   "metadata": {},
   "outputs": [
    {
     "data": {
      "text/html": [
       "<div>\n",
       "<style scoped>\n",
       "    .dataframe tbody tr th:only-of-type {\n",
       "        vertical-align: middle;\n",
       "    }\n",
       "\n",
       "    .dataframe tbody tr th {\n",
       "        vertical-align: top;\n",
       "    }\n",
       "\n",
       "    .dataframe thead th {\n",
       "        text-align: right;\n",
       "    }\n",
       "</style>\n",
       "<table border=\"1\" class=\"dataframe\">\n",
       "  <thead>\n",
       "    <tr style=\"text-align: right;\">\n",
       "      <th></th>\n",
       "      <th>Date</th>\n",
       "      <th>Open</th>\n",
       "      <th>High</th>\n",
       "      <th>Low</th>\n",
       "      <th>Last</th>\n",
       "      <th>Close</th>\n",
       "      <th>Total Trade Quantity</th>\n",
       "      <th>Turnover (Lacs)</th>\n",
       "    </tr>\n",
       "  </thead>\n",
       "  <tbody>\n",
       "    <tr>\n",
       "      <th>0</th>\n",
       "      <td>2018-09-28</td>\n",
       "      <td>234.05</td>\n",
       "      <td>235.95</td>\n",
       "      <td>230.20</td>\n",
       "      <td>233.50</td>\n",
       "      <td>233.75</td>\n",
       "      <td>3069914</td>\n",
       "      <td>7162.35</td>\n",
       "    </tr>\n",
       "    <tr>\n",
       "      <th>1</th>\n",
       "      <td>2018-09-27</td>\n",
       "      <td>234.55</td>\n",
       "      <td>236.80</td>\n",
       "      <td>231.10</td>\n",
       "      <td>233.80</td>\n",
       "      <td>233.25</td>\n",
       "      <td>5082859</td>\n",
       "      <td>11859.95</td>\n",
       "    </tr>\n",
       "    <tr>\n",
       "      <th>2</th>\n",
       "      <td>2018-09-26</td>\n",
       "      <td>240.00</td>\n",
       "      <td>240.00</td>\n",
       "      <td>232.50</td>\n",
       "      <td>235.00</td>\n",
       "      <td>234.25</td>\n",
       "      <td>2240909</td>\n",
       "      <td>5248.60</td>\n",
       "    </tr>\n",
       "    <tr>\n",
       "      <th>3</th>\n",
       "      <td>2018-09-25</td>\n",
       "      <td>233.30</td>\n",
       "      <td>236.75</td>\n",
       "      <td>232.00</td>\n",
       "      <td>236.25</td>\n",
       "      <td>236.10</td>\n",
       "      <td>2349368</td>\n",
       "      <td>5503.90</td>\n",
       "    </tr>\n",
       "    <tr>\n",
       "      <th>4</th>\n",
       "      <td>2018-09-24</td>\n",
       "      <td>233.55</td>\n",
       "      <td>239.20</td>\n",
       "      <td>230.75</td>\n",
       "      <td>234.00</td>\n",
       "      <td>233.30</td>\n",
       "      <td>3423509</td>\n",
       "      <td>7999.55</td>\n",
       "    </tr>\n",
       "  </tbody>\n",
       "</table>\n",
       "</div>"
      ],
      "text/plain": [
       "         Date    Open    High     Low    Last   Close  Total Trade Quantity  \\\n",
       "0  2018-09-28  234.05  235.95  230.20  233.50  233.75               3069914   \n",
       "1  2018-09-27  234.55  236.80  231.10  233.80  233.25               5082859   \n",
       "2  2018-09-26  240.00  240.00  232.50  235.00  234.25               2240909   \n",
       "3  2018-09-25  233.30  236.75  232.00  236.25  236.10               2349368   \n",
       "4  2018-09-24  233.55  239.20  230.75  234.00  233.30               3423509   \n",
       "\n",
       "   Turnover (Lacs)  \n",
       "0          7162.35  \n",
       "1         11859.95  \n",
       "2          5248.60  \n",
       "3          5503.90  \n",
       "4          7999.55  "
      ]
     },
     "execution_count": 3,
     "metadata": {},
     "output_type": "execute_result"
    }
   ],
   "source": [
    "df.head()"
   ]
  },
  {
   "cell_type": "code",
   "execution_count": 4,
   "id": "31ed2bee",
   "metadata": {},
   "outputs": [
    {
     "data": {
      "text/plain": [
       "<bound method NDFrame.describe of             Date    Open    High     Low    Last   Close  \\\n",
       "0     2018-09-28  234.05  235.95  230.20  233.50  233.75   \n",
       "1     2018-09-27  234.55  236.80  231.10  233.80  233.25   \n",
       "2     2018-09-26  240.00  240.00  232.50  235.00  234.25   \n",
       "3     2018-09-25  233.30  236.75  232.00  236.25  236.10   \n",
       "4     2018-09-24  233.55  239.20  230.75  234.00  233.30   \n",
       "...          ...     ...     ...     ...     ...     ...   \n",
       "2030  2010-07-27  117.60  119.50  112.00  118.80  118.65   \n",
       "2031  2010-07-26  120.10  121.00  117.10  117.10  117.60   \n",
       "2032  2010-07-23  121.80  121.95  120.25  120.35  120.65   \n",
       "2033  2010-07-22  120.30  122.00  120.25  120.75  120.90   \n",
       "2034  2010-07-21  122.10  123.00  121.05  121.10  121.55   \n",
       "\n",
       "      Total Trade Quantity  Turnover (Lacs)  \n",
       "0                  3069914          7162.35  \n",
       "1                  5082859         11859.95  \n",
       "2                  2240909          5248.60  \n",
       "3                  2349368          5503.90  \n",
       "4                  3423509          7999.55  \n",
       "...                    ...              ...  \n",
       "2030                586100           694.98  \n",
       "2031                658440           780.01  \n",
       "2032                281312           340.31  \n",
       "2033                293312           355.17  \n",
       "2034                658666           803.56  \n",
       "\n",
       "[2035 rows x 8 columns]>"
      ]
     },
     "execution_count": 4,
     "metadata": {},
     "output_type": "execute_result"
    }
   ],
   "source": [
    "df.describe"
   ]
  },
  {
   "cell_type": "code",
   "execution_count": 5,
   "id": "dac1320c",
   "metadata": {},
   "outputs": [
    {
     "name": "stdout",
     "output_type": "stream",
     "text": [
      "<class 'pandas.core.frame.DataFrame'>\n",
      "RangeIndex: 2035 entries, 0 to 2034\n",
      "Data columns (total 8 columns):\n",
      " #   Column                Non-Null Count  Dtype  \n",
      "---  ------                --------------  -----  \n",
      " 0   Date                  2035 non-null   object \n",
      " 1   Open                  2035 non-null   float64\n",
      " 2   High                  2035 non-null   float64\n",
      " 3   Low                   2035 non-null   float64\n",
      " 4   Last                  2035 non-null   float64\n",
      " 5   Close                 2035 non-null   float64\n",
      " 6   Total Trade Quantity  2035 non-null   int64  \n",
      " 7   Turnover (Lacs)       2035 non-null   float64\n",
      "dtypes: float64(6), int64(1), object(1)\n",
      "memory usage: 127.3+ KB\n"
     ]
    }
   ],
   "source": [
    "df.info()"
   ]
  },
  {
   "cell_type": "code",
   "execution_count": 6,
   "id": "46d21de6",
   "metadata": {},
   "outputs": [
    {
     "data": {
      "text/plain": [
       "(2035, 8)"
      ]
     },
     "execution_count": 6,
     "metadata": {},
     "output_type": "execute_result"
    }
   ],
   "source": [
    "df.shape"
   ]
  },
  {
   "cell_type": "code",
   "execution_count": 7,
   "id": "dfbdb5e7",
   "metadata": {},
   "outputs": [],
   "source": [
    "df1=df.reset_index()['Close']"
   ]
  },
  {
   "cell_type": "code",
   "execution_count": 8,
   "id": "c3cbcb2c",
   "metadata": {},
   "outputs": [],
   "source": [
    "import matplotlib.pyplot as plt"
   ]
  },
  {
   "cell_type": "code",
   "execution_count": 9,
   "id": "9f1cc791",
   "metadata": {},
   "outputs": [
    {
     "data": {
      "text/plain": [
       "[<matplotlib.lines.Line2D at 0x244770ef7f0>]"
      ]
     },
     "execution_count": 9,
     "metadata": {},
     "output_type": "execute_result"
    },
    {
     "data": {
      "image/png": "[encoded data removed]",
      "text/plain": [
       "<Figure size 640x480 with 1 Axes>"
      ]
     },
     "metadata": {},
     "output_type": "display_data"
    }
   ],
   "source": [
    "plt.plot(df1)"
   ]
  },
  {
   "cell_type": "code",
   "execution_count": 10,
   "id": "3f844cfd",
   "metadata": {},
   "outputs": [],
   "source": [
    "### lSTM is unable to scaling of the data, so we aply MinMaxscaler"
   ]
  },
  {
   "cell_type": "code",
   "execution_count": 11,
   "id": "f5b7f298",
   "metadata": {},
   "outputs": [],
   "source": [
    "import numpy as np\n"
   ]
  },
  {
   "cell_type": "code",
   "execution_count": 12,
   "id": "42cd47eb",
   "metadata": {},
   "outputs": [],
   "source": [
    "from sklearn.preprocessing import MinMaxScaler\n",
    "Scaler = MinMaxScaler(feature_range = (0,1))\n",
    "df1=Scaler.fit_transform(np.array(df1).reshape(-1,1))"
   ]
  },
  {
   "cell_type": "code",
   "execution_count": 13,
   "id": "5b5022ca",
   "metadata": {},
   "outputs": [
    {
     "data": {
      "text/plain": [
       "array([[0.62418301],\n",
       "       [0.62214052],\n",
       "       [0.62622549],\n",
       "       ...,\n",
       "       [0.1621732 ],\n",
       "       [0.16319444],\n",
       "       [0.16584967]])"
      ]
     },
     "execution_count": 13,
     "metadata": {},
     "output_type": "execute_result"
    }
   ],
   "source": [
    "df1"
   ]
  },
  {
   "cell_type": "code",
   "execution_count": 14,
   "id": "6475b01a",
   "metadata": {},
   "outputs": [
    {
     "data": {
      "text/plain": [
       "(2035, 1)"
      ]
     },
     "execution_count": 14,
     "metadata": {},
     "output_type": "execute_result"
    }
   ],
   "source": [
    "df1.shape"
   ]
  },
  {
   "cell_type": "code",
   "execution_count": 15,
   "id": "eb0469e0",
   "metadata": {},
   "outputs": [],
   "source": [
    "training_size=int(len(df1)*0.65)\n",
    "test_size=len(df1)-training_size\n",
    "train_data,test_data=df1[0:training_size,:],df1[training_size:len(df1),:1]"
   ]
  },
  {
   "cell_type": "code",
   "execution_count": 16,
   "id": "0c97b0f0",
   "metadata": {},
   "outputs": [
    {
     "data": {
      "text/plain": [
       "(1322, 713)"
      ]
     },
     "execution_count": 16,
     "metadata": {},
     "output_type": "execute_result"
    }
   ],
   "source": [
    "training_size,test_size"
   ]
  },
  {
   "cell_type": "code",
   "execution_count": 17,
   "id": "bafa4069",
   "metadata": {},
   "outputs": [
    {
     "data": {
      "text/plain": [
       "(1322, 713)"
      ]
     },
     "execution_count": 17,
     "metadata": {},
     "output_type": "execute_result"
    }
   ],
   "source": [
    "len(train_data),len(test_data)"
   ]
  },
  {
   "cell_type": "markdown",
   "id": "7d34f7f4",
   "metadata": {},
   "source": [
    "# Convert an array of values into a data matrix"
   ]
  },
  {
   "cell_type": "code",
   "execution_count": 18,
   "id": "badd4394",
   "metadata": {},
   "outputs": [],
   "source": [
    "def create_dataset(dataset, time_step=1):\n",
    "    dataX, dataY = [],[]\n",
    "    for i in range(len(dataset)-time_step-1):\n",
    "        a = dataset[i:(i+time_step),0]\n",
    "        dataX.append(a)\n",
    "        dataY.append(dataset[i + time_step,0])\n",
    "        return np.array(dataX), np.array(dataY)"
   ]
  },
  {
   "cell_type": "code",
   "execution_count": 19,
   "id": "83efec4d",
   "metadata": {},
   "outputs": [],
   "source": [
    "# Reshape X=t,t+1,t+2,t+3, and Y=t+4\n",
    "\n",
    "time_step = 100\n",
    "X_train, y_train = create_dataset(train_data,time_step)\n",
    "X_test , y_test = create_dataset(test_data, time_step)"
   ]
  },
  {
   "cell_type": "code",
   "execution_count": 20,
   "id": "98986c5d",
   "metadata": {},
   "outputs": [
    {
     "name": "stdout",
     "output_type": "stream",
     "text": [
      "[[0.62418301 0.62214052 0.62622549 0.63378268 0.62234477 0.62765523\n",
      "  0.62888072 0.62949346 0.63582516 0.625      0.57883987 0.55167484\n",
      "  0.57618464 0.58006536 0.57230392 0.57781863 0.58312908 0.63623366\n",
      "  0.62642974 0.63337418 0.62745098 0.62254902 0.6376634  0.61294935\n",
      "  0.63112745 0.65196078 0.67075163 0.66196895 0.64705882 0.63970588\n",
      "  0.62745098 0.62336601 0.63868464 0.63480392 0.63991013 0.64767157\n",
      "  0.62785948 0.63112745 0.63194444 0.67790033 0.65870098 0.65890523\n",
      "  0.64603758 0.63705065 0.67544935 0.66319444 0.6439951  0.62152778\n",
      "  0.64419935 0.68198529 0.6629902  0.72691993 0.75265523 0.77144608\n",
      "  0.79166667 0.79370915 0.75714869 0.77736928 0.80208333 0.81719771\n",
      "  0.7495915  0.76960784 0.74754902 0.75428922 0.76143791 0.74979575\n",
      "  0.73999183 0.72406046 0.73488562 0.76021242 0.79411765 0.78104575\n",
      "  0.80412582 0.77062908 0.76245915 0.74652778 0.75980392 0.76041667\n",
      "  0.75490196 0.74673203 0.7120098  0.74468954 0.7689951  0.74979575\n",
      "  0.72120098 0.73406863 0.72263072 0.70894608 0.69138072 0.67892157\n",
      "  0.66421569 0.6689134  0.68035131 0.65420752 0.66053922 0.71466503\n",
      "  0.84375    0.83455882 0.86213235 0.85273693]]\n"
     ]
    }
   ],
   "source": [
    "print(X_train)"
   ]
  },
  {
   "cell_type": "code",
   "execution_count": 21,
   "id": "6f9b63a6",
   "metadata": {},
   "outputs": [
    {
     "name": "stdout",
     "output_type": "stream",
     "text": [
      "(1, 100)\n",
      "(1,)\n"
     ]
    },
    {
     "data": {
      "text/plain": [
       "(None, None)"
      ]
     },
     "execution_count": 21,
     "metadata": {},
     "output_type": "execute_result"
    }
   ],
   "source": [
    "print(X_train.shape),print(y_train.shape)"
   ]
  },
  {
   "cell_type": "markdown",
   "id": "1671a025",
   "metadata": {},
   "source": [
    "# Reshape input to be ( sample, time steps , feature ) for LSTM\n"
   ]
  },
  {
   "cell_type": "code",
   "execution_count": 22,
   "id": "38520308",
   "metadata": {},
   "outputs": [],
   "source": [
    "X_train = X_train.reshape(X_train.shape[0],X_train.shape[1], 1)\n",
    "X_test = X_test.reshape(X_test.shape[0],X_test.shape[1], 1)"
   ]
  },
  {
   "cell_type": "code",
   "execution_count": 23,
   "id": "a15681a4",
   "metadata": {},
   "outputs": [],
   "source": [
    "# Create the Stacked LSTM model\n",
    "\n",
    "from tensorflow.keras.models import Sequential\n",
    "from tensorflow.keras.layers import Dense\n",
    "from tensorflow.keras.layers import LSTM"
   ]
  },
  {
   "cell_type": "code",
   "execution_count": 24,
   "id": "8866a2b1",
   "metadata": {},
   "outputs": [],
   "source": [
    "model=Sequential()\n",
    "model.add(LSTM(50,return_sequences=True,input_shape=(100,1)))\n",
    "model.add(LSTM(50,return_sequences=True))\n",
    "model.add(LSTM(50))\n",
    "model.add(Dense(1))\n",
    "model.compile(loss='mean_squared_error', optimizer='adam')"
   ]
  },
  {
   "cell_type": "code",
   "execution_count": 25,
   "id": "bc3485ba",
   "metadata": {},
   "outputs": [
    {
     "name": "stdout",
     "output_type": "stream",
     "text": [
      "Model: \"sequential\"\n",
      "_________________________________________________________________\n",
      " Layer (type)                Output Shape              Param #   \n",
      "=================================================================\n",
      " lstm (LSTM)                 (None, 100, 50)           10400     \n",
      "                                                                 \n",
      " lstm_1 (LSTM)               (None, 100, 50)           20200     \n",
      "                                                                 \n",
      " lstm_2 (LSTM)               (None, 50)                20200     \n",
      "                                                                 \n",
      " dense (Dense)               (None, 1)                 51        \n",
      "                                                                 \n",
      "=================================================================\n",
      "Total params: 50,851\n",
      "Trainable params: 50,851\n",
      "Non-trainable params: 0\n",
      "_________________________________________________________________\n"
     ]
    }
   ],
   "source": [
    "model.summary()"
   ]
  },
  {
   "cell_type": "code",
   "execution_count": 26,
   "id": "aa7b7572",
   "metadata": {},
   "outputs": [
    {
     "name": "stdout",
     "output_type": "stream",
     "text": [
      "Epoch 1/100\n",
      "1/1 [==============================] - 6s 6s/step - loss: 0.5910 - val_loss: 0.0400\n",
      "Epoch 2/100\n",
      "1/1 [==============================] - 0s 112ms/step - loss: 0.3793 - val_loss: 0.0112\n",
      "Epoch 3/100\n",
      "1/1 [==============================] - 0s 116ms/step - loss: 0.1839 - val_loss: 2.5736e-04\n",
      "Epoch 4/100\n",
      "1/1 [==============================] - 0s 113ms/step - loss: 0.0348 - val_loss: 0.0308\n",
      "Epoch 5/100\n",
      "1/1 [==============================] - 0s 114ms/step - loss: 0.0141 - val_loss: 0.0899\n",
      "Epoch 6/100\n",
      "1/1 [==============================] - 0s 111ms/step - loss: 0.1048 - val_loss: 0.0952\n",
      "Epoch 7/100\n",
      "1/1 [==============================] - 0s 115ms/step - loss: 0.0966 - val_loss: 0.0676\n",
      "Epoch 8/100\n",
      "1/1 [==============================] - 0s 113ms/step - loss: 0.0428 - val_loss: 0.0385\n",
      "Epoch 9/100\n",
      "1/1 [==============================] - 0s 113ms/step - loss: 0.0067 - val_loss: 0.0193\n",
      "Epoch 10/100\n",
      "1/1 [==============================] - 0s 113ms/step - loss: 8.7657e-04 - val_loss: 0.0093\n",
      "Epoch 11/100\n",
      "1/1 [==============================] - 0s 111ms/step - loss: 0.0127 - val_loss: 0.0049\n",
      "Epoch 12/100\n",
      "1/1 [==============================] - 0s 108ms/step - loss: 0.0275 - val_loss: 0.0034\n",
      "Epoch 13/100\n",
      "1/1 [==============================] - 0s 113ms/step - loss: 0.0368 - val_loss: 0.0035\n",
      "Epoch 14/100\n",
      "1/1 [==============================] - 0s 114ms/step - loss: 0.0384 - val_loss: 0.0050\n",
      "Epoch 15/100\n",
      "1/1 [==============================] - 0s 115ms/step - loss: 0.0331 - val_loss: 0.0082\n",
      "Epoch 16/100\n",
      "1/1 [==============================] - 0s 112ms/step - loss: 0.0236 - val_loss: 0.0138\n",
      "Epoch 17/100\n",
      "1/1 [==============================] - 0s 107ms/step - loss: 0.0131 - val_loss: 0.0223\n",
      "Epoch 18/100\n",
      "1/1 [==============================] - 0s 109ms/step - loss: 0.0046 - val_loss: 0.0338\n",
      "Epoch 19/100\n",
      "1/1 [==============================] - 0s 113ms/step - loss: 3.3620e-04 - val_loss: 0.0473\n",
      "Epoch 20/100\n",
      "1/1 [==============================] - 0s 114ms/step - loss: 8.6863e-04 - val_loss: 0.0611\n",
      "Epoch 21/100\n",
      "1/1 [==============================] - 0s 112ms/step - loss: 0.0049 - val_loss: 0.0723\n",
      "Epoch 22/100\n",
      "1/1 [==============================] - 0s 110ms/step - loss: 0.0097 - val_loss: 0.0787\n",
      "Epoch 23/100\n",
      "1/1 [==============================] - 0s 111ms/step - loss: 0.0124 - val_loss: 0.0793\n",
      "Epoch 24/100\n",
      "1/1 [==============================] - 0s 112ms/step - loss: 0.0119 - val_loss: 0.0747\n",
      "Epoch 25/100\n",
      "1/1 [==============================] - 0s 111ms/step - loss: 0.0087 - val_loss: 0.0668\n",
      "Epoch 26/100\n",
      "1/1 [==============================] - 0s 114ms/step - loss: 0.0047 - val_loss: 0.0577\n",
      "Epoch 27/100\n",
      "1/1 [==============================] - 0s 111ms/step - loss: 0.0015 - val_loss: 0.0491\n",
      "Epoch 28/100\n",
      "1/1 [==============================] - 0s 113ms/step - loss: 8.5981e-05 - val_loss: 0.0418\n",
      "Epoch 29/100\n",
      "1/1 [==============================] - 0s 116ms/step - loss: 3.2545e-04 - val_loss: 0.0364\n",
      "Epoch 30/100\n",
      "1/1 [==============================] - 0s 113ms/step - loss: 0.0016 - val_loss: 0.0328\n",
      "Epoch 31/100\n",
      "1/1 [==============================] - 0s 112ms/step - loss: 0.0032 - val_loss: 0.0310\n",
      "Epoch 32/100\n",
      "1/1 [==============================] - 0s 114ms/step - loss: 0.0043 - val_loss: 0.0308\n",
      "Epoch 33/100\n",
      "1/1 [==============================] - 0s 110ms/step - loss: 0.0046 - val_loss: 0.0320\n",
      "Epoch 34/100\n",
      "1/1 [==============================] - 0s 117ms/step - loss: 0.0041 - val_loss: 0.0347\n",
      "Epoch 35/100\n",
      "1/1 [==============================] - 0s 114ms/step - loss: 0.0030 - val_loss: 0.0386\n",
      "Epoch 36/100\n",
      "1/1 [==============================] - 0s 112ms/step - loss: 0.0017 - val_loss: 0.0435\n",
      "Epoch 37/100\n",
      "1/1 [==============================] - 0s 113ms/step - loss: 5.8671e-04 - val_loss: 0.0490\n",
      "Epoch 38/100\n",
      "1/1 [==============================] - 0s 112ms/step - loss: 4.3966e-05 - val_loss: 0.0547\n",
      "Epoch 39/100\n",
      "1/1 [==============================] - 0s 116ms/step - loss: 1.0466e-04 - val_loss: 0.0598\n",
      "Epoch 40/100\n",
      "1/1 [==============================] - 0s 112ms/step - loss: 6.0564e-04 - val_loss: 0.0638\n",
      "Epoch 41/100\n",
      "1/1 [==============================] - 0s 114ms/step - loss: 0.0012 - val_loss: 0.0660\n",
      "Epoch 42/100\n",
      "1/1 [==============================] - 0s 114ms/step - loss: 0.0016 - val_loss: 0.0665\n",
      "Epoch 43/100\n",
      "1/1 [==============================] - 0s 115ms/step - loss: 0.0017 - val_loss: 0.0651\n",
      "Epoch 44/100\n",
      "1/1 [==============================] - 0s 110ms/step - loss: 0.0013 - val_loss: 0.0625\n",
      "Epoch 45/100\n",
      "1/1 [==============================] - 0s 112ms/step - loss: 8.0754e-04 - val_loss: 0.0590\n",
      "Epoch 46/100\n",
      "1/1 [==============================] - 0s 112ms/step - loss: 3.1819e-04 - val_loss: 0.0553\n",
      "Epoch 47/100\n",
      "1/1 [==============================] - 0s 112ms/step - loss: 4.0031e-05 - val_loss: 0.0519\n",
      "Epoch 48/100\n",
      "1/1 [==============================] - 0s 115ms/step - loss: 2.2202e-05 - val_loss: 0.0491\n",
      "Epoch 49/100\n",
      "1/1 [==============================] - 0s 114ms/step - loss: 1.9919e-04 - val_loss: 0.0471\n",
      "Epoch 50/100\n",
      "1/1 [==============================] - 0s 108ms/step - loss: 4.4251e-04 - val_loss: 0.0460\n",
      "Epoch 51/100\n",
      "1/1 [==============================] - 0s 112ms/step - loss: 6.2476e-04 - val_loss: 0.0458\n",
      "Epoch 52/100\n",
      "1/1 [==============================] - 0s 111ms/step - loss: 6.6849e-04 - val_loss: 0.0465\n",
      "Epoch 53/100\n",
      "1/1 [==============================] - 0s 118ms/step - loss: 5.6640e-04 - val_loss: 0.0480\n",
      "Epoch 54/100\n",
      "1/1 [==============================] - 0s 111ms/step - loss: 3.7199e-04 - val_loss: 0.0500\n",
      "Epoch 55/100\n",
      "1/1 [==============================] - 0s 106ms/step - loss: 1.6894e-04 - val_loss: 0.0524\n",
      "Epoch 56/100\n",
      "1/1 [==============================] - 0s 112ms/step - loss: 3.3215e-05 - val_loss: 0.0549\n",
      "Epoch 57/100\n",
      "1/1 [==============================] - 0s 115ms/step - loss: 2.3018e-06 - val_loss: 0.0571\n",
      "Epoch 58/100\n",
      "1/1 [==============================] - 0s 111ms/step - loss: 6.3644e-05 - val_loss: 0.0588\n",
      "Epoch 59/100\n",
      "1/1 [==============================] - 0s 105ms/step - loss: 1.6619e-04 - val_loss: 0.0599\n",
      "Epoch 60/100\n",
      "1/1 [==============================] - 0s 108ms/step - loss: 2.4849e-04 - val_loss: 0.0602\n",
      "Epoch 61/100\n",
      "1/1 [==============================] - 0s 111ms/step - loss: 2.6879e-04 - val_loss: 0.0597\n",
      "Epoch 62/100\n",
      "1/1 [==============================] - 0s 111ms/step - loss: 2.2186e-04 - val_loss: 0.0586\n",
      "Epoch 63/100\n",
      "1/1 [==============================] - 0s 115ms/step - loss: 1.3569e-04 - val_loss: 0.0572\n",
      "Epoch 64/100\n",
      "1/1 [==============================] - 0s 119ms/step - loss: 5.2360e-05 - val_loss: 0.0556\n",
      "Epoch 65/100\n",
      "1/1 [==============================] - 0s 150ms/step - loss: 5.4489e-06 - val_loss: 0.0541\n",
      "Epoch 66/100\n",
      "1/1 [==============================] - 0s 117ms/step - loss: 5.6949e-06 - val_loss: 0.0528\n",
      "Epoch 67/100\n",
      "1/1 [==============================] - 0s 117ms/step - loss: 4.0286e-05 - val_loss: 0.0519\n",
      "Epoch 68/100\n",
      "1/1 [==============================] - 0s 112ms/step - loss: 8.3215e-05 - val_loss: 0.0515\n",
      "Epoch 69/100\n",
      "1/1 [==============================] - 0s 114ms/step - loss: 1.0971e-04 - val_loss: 0.0516\n",
      "Epoch 70/100\n",
      "1/1 [==============================] - 0s 112ms/step - loss: 1.0736e-04 - val_loss: 0.0521\n",
      "Epoch 71/100\n",
      "1/1 [==============================] - 0s 117ms/step - loss: 7.9682e-05 - val_loss: 0.0529\n",
      "Epoch 72/100\n",
      "1/1 [==============================] - 0s 112ms/step - loss: 4.1780e-05 - val_loss: 0.0539\n",
      "Epoch 73/100\n",
      "1/1 [==============================] - 0s 118ms/step - loss: 1.1403e-05 - val_loss: 0.0550\n",
      "Epoch 74/100\n",
      "1/1 [==============================] - 0s 115ms/step - loss: 1.5047e-08 - val_loss: 0.0560\n",
      "Epoch 75/100\n",
      "1/1 [==============================] - 0s 113ms/step - loss: 8.1259e-06 - val_loss: 0.0568\n",
      "Epoch 76/100\n",
      "1/1 [==============================] - 0s 111ms/step - loss: 2.6647e-05 - val_loss: 0.0573\n",
      "Epoch 77/100\n",
      "1/1 [==============================] - 0s 107ms/step - loss: 4.2885e-05 - val_loss: 0.0574\n",
      "Epoch 78/100\n",
      "1/1 [==============================] - 0s 112ms/step - loss: 4.7554e-05 - val_loss: 0.0572\n",
      "Epoch 79/100\n",
      "1/1 [==============================] - 0s 109ms/step - loss: 3.9020e-05 - val_loss: 0.0567\n",
      "Epoch 80/100\n",
      "1/1 [==============================] - 0s 110ms/step - loss: 2.2859e-05 - val_loss: 0.0561\n",
      "Epoch 81/100\n",
      "1/1 [==============================] - 0s 111ms/step - loss: 7.7401e-06 - val_loss: 0.0554\n",
      "Epoch 82/100\n",
      "1/1 [==============================] - 0s 109ms/step - loss: 3.3801e-07 - val_loss: 0.0547\n",
      "Epoch 83/100\n",
      "1/1 [==============================] - 0s 110ms/step - loss: 2.2199e-06 - val_loss: 0.0541\n",
      "Epoch 84/100\n",
      "1/1 [==============================] - 0s 120ms/step - loss: 9.9288e-06 - val_loss: 0.0538\n",
      "Epoch 85/100\n",
      "1/1 [==============================] - 0s 143ms/step - loss: 1.7675e-05 - val_loss: 0.0537\n",
      "Epoch 86/100\n",
      "1/1 [==============================] - 0s 174ms/step - loss: 2.0747e-05 - val_loss: 0.0538\n",
      "Epoch 87/100\n",
      "1/1 [==============================] - 0s 149ms/step - loss: 1.7781e-05 - val_loss: 0.0541\n",
      "Epoch 88/100\n",
      "1/1 [==============================] - 0s 114ms/step - loss: 1.0884e-05 - val_loss: 0.0545\n",
      "Epoch 89/100\n",
      "1/1 [==============================] - 0s 110ms/step - loss: 3.9417e-06 - val_loss: 0.0550\n",
      "Epoch 90/100\n",
      "1/1 [==============================] - 0s 115ms/step - loss: 2.5223e-07 - val_loss: 0.0555\n",
      "Epoch 91/100\n",
      "1/1 [==============================] - 0s 123ms/step - loss: 8.3983e-07 - val_loss: 0.0559\n",
      "Epoch 92/100\n",
      "1/1 [==============================] - 0s 107ms/step - loss: 4.2642e-06 - val_loss: 0.0562\n",
      "Epoch 93/100\n",
      "1/1 [==============================] - 0s 127ms/step - loss: 7.8049e-06 - val_loss: 0.0562\n",
      "Epoch 94/100\n",
      "1/1 [==============================] - 0s 127ms/step - loss: 9.1766e-06 - val_loss: 0.0562\n",
      "Epoch 95/100\n",
      "1/1 [==============================] - 0s 145ms/step - loss: 7.7275e-06 - val_loss: 0.0559\n",
      "Epoch 96/100\n",
      "1/1 [==============================] - 0s 121ms/step - loss: 4.5251e-06 - val_loss: 0.0556\n",
      "Epoch 97/100\n",
      "1/1 [==============================] - 0s 113ms/step - loss: 1.4623e-06 - val_loss: 0.0553\n",
      "Epoch 98/100\n",
      "1/1 [==============================] - 0s 113ms/step - loss: 3.6928e-08 - val_loss: 0.0550\n",
      "Epoch 99/100\n",
      "1/1 [==============================] - 0s 125ms/step - loss: 5.7302e-07 - val_loss: 0.0547\n",
      "Epoch 100/100\n",
      "1/1 [==============================] - 0s 115ms/step - loss: 2.2427e-06 - val_loss: 0.0546\n"
     ]
    },
    {
     "data": {
      "text/plain": [
       "<keras.callbacks.History at 0x2441144a980>"
      ]
     },
     "execution_count": 26,
     "metadata": {},
     "output_type": "execute_result"
    }
   ],
   "source": [
    "model.fit(X_train, y_train, validation_data= (X_test,y_test),epochs=100,batch_size=64,verbose=1)"
   ]
  },
  {
   "cell_type": "code",
   "execution_count": 27,
   "id": "4b0e704d",
   "metadata": {},
   "outputs": [],
   "source": [
    "import tensorflow as tf"
   ]
  },
  {
   "cell_type": "code",
   "execution_count": 28,
   "id": "c6238e78",
   "metadata": {},
   "outputs": [
    {
     "name": "stdout",
     "output_type": "stream",
     "text": [
      "1/1 [==============================] - 1s 1s/step\n",
      "1/1 [==============================] - 0s 34ms/step\n"
     ]
    }
   ],
   "source": [
    "# Do the prediction and check performance matrics\n",
    "\n",
    "train_predict=model.predict(X_train)\n",
    "test_predict=model.predict(X_test)"
   ]
  },
  {
   "cell_type": "code",
   "execution_count": 29,
   "id": "564df4dc",
   "metadata": {},
   "outputs": [],
   "source": [
    "train_predict=Scaler.inverse_transform(train_predict)\n",
    "test_predict=Scaler.inverse_transform(test_predict)\n"
   ]
  },
  {
   "cell_type": "code",
   "execution_count": 30,
   "id": "c608b418",
   "metadata": {},
   "outputs": [
    {
     "data": {
      "text/plain": [
       "292.8557789123136"
      ]
     },
     "execution_count": 30,
     "metadata": {},
     "output_type": "execute_result"
    }
   ],
   "source": [
    "# Calculate RMSE performance metrics \n",
    "\n",
    "import math\n",
    "from sklearn.metrics import mean_squared_error\n",
    "math.sqrt(mean_squared_error(y_train, train_predict))"
   ]
  },
  {
   "cell_type": "code",
   "execution_count": 31,
   "id": "0f4ace88",
   "metadata": {},
   "outputs": [
    {
     "data": {
      "text/plain": [
       "216.82848692251966"
      ]
     },
     "execution_count": 31,
     "metadata": {},
     "output_type": "execute_result"
    }
   ],
   "source": [
    "# Test Data RMSE\n",
    "\n",
    "math.sqrt(mean_squared_error(y_test, test_predict))"
   ]
  },
  {
   "cell_type": "code",
   "execution_count": null,
   "id": "d8fbe45c",
   "metadata": {},
   "outputs": [],
   "source": [
    "# Overall, this code is used to visualize the performance of a time series prediction model \n",
    "# by plotting the original data, with its training and testing predictions."
   ]
  },
  {
   "cell_type": "code",
   "execution_count": 32,
   "id": "7fa05b6f",
   "metadata": {
    "scrolled": true
   },
   "outputs": [
    {
     "data": {
      "image/png": "[encoded data removed]",
      "text/plain": [
       "<Figure size 640x480 with 1 Axes>"
      ]
     },
     "metadata": {},
     "output_type": "display_data"
    }
   ],
   "source": [
    "# Train prediction for plotting\n",
    "\n",
    "look_back=100\n",
    "trainPredictionPlot= np.empty_like(df1)\n",
    "trainPredictionPlot[:, :] = np.nan\n",
    "trainPredictionPlot[look_back:len(train_predict)+look_back, :] = train_predict\n",
    "# test prediction for plotting\n",
    "\n",
    "testPredictionPlot = np.empty_like(df1)\n",
    "testPredictionPlot[:, :] = np.nan\n",
    "trainPredictionPlot[len(train_predict)+(look_back*2)+1 :len(df1)-1, :] = test_predict\n",
    "# plot baseline and predictions\n",
    "\n",
    "plt.plot(Scaler.inverse_transform(df1),color=\"c\")\n",
    "plt.plot(trainPredictionPlot, color=\"r\")\n",
    "plt.plot(testPredictionPlot)\n",
    "plt.show()\n"
   ]
  },
  {
   "cell_type": "code",
   "execution_count": 33,
   "id": "8cf0988a",
   "metadata": {},
   "outputs": [
    {
     "data": {
      "text/plain": [
       "713"
      ]
     },
     "execution_count": 33,
     "metadata": {},
     "output_type": "execute_result"
    }
   ],
   "source": [
    "len(test_data)"
   ]
  },
  {
   "cell_type": "code",
   "execution_count": 34,
   "id": "b2c737d2",
   "metadata": {},
   "outputs": [
    {
     "data": {
      "text/plain": [
       "(1, 372)"
      ]
     },
     "execution_count": 34,
     "metadata": {},
     "output_type": "execute_result"
    }
   ],
   "source": [
    "x_input=test_data[341:].reshape(1,-1)\n",
    "x_input.shape"
   ]
  },
  {
   "cell_type": "code",
   "execution_count": 35,
   "id": "6a488401",
   "metadata": {},
   "outputs": [],
   "source": [
    "x_input= test_data[341:].reshape(1,-1)"
   ]
  },
  {
   "cell_type": "code",
   "execution_count": 36,
   "id": "f3065575",
   "metadata": {},
   "outputs": [
    {
     "data": {
      "text/plain": [
       "(1, 372)"
      ]
     },
     "execution_count": 36,
     "metadata": {},
     "output_type": "execute_result"
    }
   ],
   "source": [
    "x_input.shape"
   ]
  },
  {
   "cell_type": "code",
   "execution_count": 37,
   "id": "df9b2510",
   "metadata": {},
   "outputs": [
    {
     "data": {
      "text/plain": [
       "[0.048815359477124176,\n",
       " 0.048815359477124176,\n",
       " 0.05310457516339867,\n",
       " 0.049632352941176405,\n",
       " 0.05065359477124176,\n",
       " 0.05126633986928103,\n",
       " 0.049632352941176405,\n",
       " 0.05902777777777779,\n",
       " 0.055555555555555525,\n",
       " 0.040849673202614345,\n",
       " 0.037377450980392135,\n",
       " 0.037377450980392135,\n",
       " 0.026552287581699308,\n",
       " 0.02879901960784309,\n",
       " 0.03165849673202614,\n",
       " 0.03165849673202614,\n",
       " 0.036356209150326724,\n",
       " 0.022058823529411742,\n",
       " 0.016748366013071836,\n",
       " 0.014501633986928053,\n",
       " 0.022263071895424813,\n",
       " 0.03615196078431371,\n",
       " 0.02675653594771238,\n",
       " 0.03206699346405223,\n",
       " 0.02696078431372545,\n",
       " 0.035743464052287566,\n",
       " 0.03594771241830064,\n",
       " 0.0404411764705882,\n",
       " 0.039215686274509776,\n",
       " 0.044117647058823484,\n",
       " 0.029820261437908446,\n",
       " 0.012254901960784326,\n",
       " 0.012867647058823484,\n",
       " 0.011437908496731986,\n",
       " 0.0024509803921567985,\n",
       " 0.005923202614379064,\n",
       " 0.0,\n",
       " 0.007148692810457491,\n",
       " 0.0042892156862744946,\n",
       " 0.006740196078431349,\n",
       " 0.006331699346405206,\n",
       " 0.011233660130718914,\n",
       " 0.019607843137254888,\n",
       " 0.02757352941176472,\n",
       " 0.030024509803921517,\n",
       " 0.03349673202614378,\n",
       " 0.04003267973856206,\n",
       " 0.040849673202614345,\n",
       " 0.03982843137254899,\n",
       " 0.041666666666666685,\n",
       " 0.0437091503267974,\n",
       " 0.047589869281045694,\n",
       " 0.03594771241830064,\n",
       " 0.028390522875817004,\n",
       " 0.024101307189542454,\n",
       " 0.017156862745098034,\n",
       " 0.015318627450980393,\n",
       " 0.017565359477124176,\n",
       " 0.02696078431372545,\n",
       " 0.02696078431372545,\n",
       " 0.03819444444444442,\n",
       " 0.028390522875817004,\n",
       " 0.02369281045751631,\n",
       " 0.029207516339869233,\n",
       " 0.02328431372549017,\n",
       " 0.019199346405228745,\n",
       " 0.006535947712418277,\n",
       " 0.000612745098039158,\n",
       " 0.007965686274509776,\n",
       " 0.012459150326797341,\n",
       " 0.01981209150326796,\n",
       " 0.019403594771241817,\n",
       " 0.022467320261437884,\n",
       " 0.031249999999999944,\n",
       " 0.02348856209150324,\n",
       " 0.024918300653594738,\n",
       " 0.02144607843137253,\n",
       " 0.04840686274509798,\n",
       " 0.04575163398692811,\n",
       " 0.03962418300653592,\n",
       " 0.039215686274509776,\n",
       " 0.047589869281045694,\n",
       " 0.04513888888888884,\n",
       " 0.041666666666666685,\n",
       " 0.04125816993464049,\n",
       " 0.050449346405228745,\n",
       " 0.055555555555555525,\n",
       " 0.05494281045751631,\n",
       " 0.054125816993464027,\n",
       " 0.04350490196078427,\n",
       " 0.04799836601307189,\n",
       " 0.0514705882352941,\n",
       " 0.05065359477124176,\n",
       " 0.03431372549019601,\n",
       " 0.04575163398692811,\n",
       " 0.0418709150326797,\n",
       " 0.04554738562091498,\n",
       " 0.03941993464052285,\n",
       " 0.02716503267973852,\n",
       " 0.031249999999999944,\n",
       " 0.05882352941176466,\n",
       " 0.07148692810457513,\n",
       " 0.08721405228758167,\n",
       " 0.08986928104575165,\n",
       " 0.10498366013071897,\n",
       " 0.08905228758169931,\n",
       " 0.10355392156862742,\n",
       " 0.10375816993464049,\n",
       " 0.12275326797385616,\n",
       " 0.1090686274509804,\n",
       " 0.09660947712418294,\n",
       " 0.10641339869281041,\n",
       " 0.10457516339869277,\n",
       " 0.11049836601307189,\n",
       " 0.11274509803921567,\n",
       " 0.0980392156862745,\n",
       " 0.09987745098039214,\n",
       " 0.08925653594771238,\n",
       " 0.07475490196078427,\n",
       " 0.08169934640522875,\n",
       " 0.08925653594771238,\n",
       " 0.09068627450980393,\n",
       " 0.08129084967320255,\n",
       " 0.08823529411764702,\n",
       " 0.08455882352941174,\n",
       " 0.07945261437908496,\n",
       " 0.08374183006535946,\n",
       " 0.0778186274509804,\n",
       " 0.09824346405228757,\n",
       " 0.090890522875817,\n",
       " 0.09007352941176466,\n",
       " 0.09558823529411759,\n",
       " 0.06862745098039214,\n",
       " 0.06372549019607837,\n",
       " 0.04942810457516339,\n",
       " 0.04799836601307189,\n",
       " 0.04534313725490191,\n",
       " 0.044321895424836555,\n",
       " 0.03941993464052285,\n",
       " 0.03799019607843135,\n",
       " 0.04656862745098034,\n",
       " 0.05085784313725489,\n",
       " 0.07209967320261434,\n",
       " 0.065359477124183,\n",
       " 0.07230392156862747,\n",
       " 0.07802287581699341,\n",
       " 0.07741013071895425,\n",
       " 0.060866013071895375,\n",
       " 0.06413398692810457,\n",
       " 0.07046568627450978,\n",
       " 0.054125816993464027,\n",
       " 0.04983660130718953,\n",
       " 0.05167483660130712,\n",
       " 0.05330882352941174,\n",
       " 0.04350490196078427,\n",
       " 0.026348039215686292,\n",
       " 0.024101307189542454,\n",
       " 0.02961601307189543,\n",
       " 0.019607843137254888,\n",
       " 0.02961601307189543,\n",
       " 0.04575163398692811,\n",
       " 0.05923202614379086,\n",
       " 0.0667892156862745,\n",
       " 0.06229575163398693,\n",
       " 0.06311274509803921,\n",
       " 0.06290849673202609,\n",
       " 0.06658496732026142,\n",
       " 0.07434640522875818,\n",
       " 0.06944444444444442,\n",
       " 0.08088235294117646,\n",
       " 0.07700163398692805,\n",
       " 0.06842320261437906,\n",
       " 0.06781045751633985,\n",
       " 0.06290849673202609,\n",
       " 0.06924019607843135,\n",
       " 0.07557189542483661,\n",
       " 0.0778186274509804,\n",
       " 0.08088235294117646,\n",
       " 0.0884395424836601,\n",
       " 0.09395424836601307,\n",
       " 0.09599673202614378,\n",
       " 0.08660130718954251,\n",
       " 0.09027777777777773,\n",
       " 0.08517156862745096,\n",
       " 0.08374183006535946,\n",
       " 0.07945261437908496,\n",
       " 0.09109477124183002,\n",
       " 0.09129901960784309,\n",
       " 0.08803104575163395,\n",
       " 0.09681372549019607,\n",
       " 0.11417483660130717,\n",
       " 0.10498366013071897,\n",
       " 0.09987745098039214,\n",
       " 0.08537581699346403,\n",
       " 0.08047385620915032,\n",
       " 0.06862745098039214,\n",
       " 0.06576797385620914,\n",
       " 0.061478758169934644,\n",
       " 0.0716911764705882,\n",
       " 0.0702614379084967,\n",
       " 0.07475490196078427,\n",
       " 0.06821895424836599,\n",
       " 0.06924019607843135,\n",
       " 0.07066993464052285,\n",
       " 0.06801470588235292,\n",
       " 0.0667892156862745,\n",
       " 0.07414215686274506,\n",
       " 0.0716911764705882,\n",
       " 0.08639705882352938,\n",
       " 0.08312908496732024,\n",
       " 0.06311274509803921,\n",
       " 0.06290849673202609,\n",
       " 0.05167483660130712,\n",
       " 0.031862745098039214,\n",
       " 0.04003267973856206,\n",
       " 0.03860294117647056,\n",
       " 0.041053921568627416,\n",
       " 0.033905228758169925,\n",
       " 0.031249999999999944,\n",
       " 0.026348039215686292,\n",
       " 0.05861928104575159,\n",
       " 0.06311274509803921,\n",
       " 0.06209150326797386,\n",
       " 0.055351307189542454,\n",
       " 0.08455882352941174,\n",
       " 0.05514705882352938,\n",
       " 0.06045751633986923,\n",
       " 0.055759803921568596,\n",
       " 0.04391339869281047,\n",
       " 0.029207516339869233,\n",
       " 0.028186274509803877,\n",
       " 0.04718137254901961,\n",
       " 0.06045751633986923,\n",
       " 0.05861928104575159,\n",
       " 0.06168300653594766,\n",
       " 0.06699346405228751,\n",
       " 0.07087418300653592,\n",
       " 0.07557189542483661,\n",
       " 0.07700163398692805,\n",
       " 0.10375816993464049,\n",
       " 0.10314542483660127,\n",
       " 0.10334967320261434,\n",
       " 0.10089869281045749,\n",
       " 0.1043709150326797,\n",
       " 0.0980392156862745,\n",
       " 0.09722222222222221,\n",
       " 0.09783496732026142,\n",
       " 0.09579248366013071,\n",
       " 0.09109477124183002,\n",
       " 0.09313725490196079,\n",
       " 0.0855800653594771,\n",
       " 0.0951797385620915,\n",
       " 0.11172385620915032,\n",
       " 0.12275326797385616,\n",
       " 0.12806372549019607,\n",
       " 0.1313316993464052,\n",
       " 0.12479575163398693,\n",
       " 0.11090686274509798,\n",
       " 0.10743464052287577,\n",
       " 0.11621732026143788,\n",
       " 0.1168300653594771,\n",
       " 0.11764705882352938,\n",
       " 0.12888071895424835,\n",
       " 0.1284722222222222,\n",
       " 0.13337418300653592,\n",
       " 0.1423611111111111,\n",
       " 0.1409313725490196,\n",
       " 0.13970588235294118,\n",
       " 0.13827614379084963,\n",
       " 0.13541666666666663,\n",
       " 0.13010620915032678,\n",
       " 0.12254901960784315,\n",
       " 0.12479575163398693,\n",
       " 0.1384803921568627,\n",
       " 0.14011437908496732,\n",
       " 0.1388888888888889,\n",
       " 0.13541666666666663,\n",
       " 0.14011437908496732,\n",
       " 0.13807189542483655,\n",
       " 0.130718954248366,\n",
       " 0.130718954248366,\n",
       " 0.12867647058823528,\n",
       " 0.11846405228758167,\n",
       " 0.14644607843137253,\n",
       " 0.1480800653594771,\n",
       " 0.159109477124183,\n",
       " 0.15992647058823523,\n",
       " 0.1578839869281045,\n",
       " 0.16441993464052285,\n",
       " 0.178921568627451,\n",
       " 0.17933006535947704,\n",
       " 0.19260620915032678,\n",
       " 0.2081290849673203,\n",
       " 0.18974673202614378,\n",
       " 0.18055555555555558,\n",
       " 0.1823937908496731,\n",
       " 0.17708333333333326,\n",
       " 0.17810457516339862,\n",
       " 0.18055555555555558,\n",
       " 0.17810457516339862,\n",
       " 0.17851307189542487,\n",
       " 0.196078431372549,\n",
       " 0.18913398692810457,\n",
       " 0.1895424836601307,\n",
       " 0.19403594771241828,\n",
       " 0.19444444444444442,\n",
       " 0.20200163398692816,\n",
       " 0.19771241830065356,\n",
       " 0.19934640522875813,\n",
       " 0.19873366013071891,\n",
       " 0.19975490196078427,\n",
       " 0.21282679738562094,\n",
       " 0.21568627450980393,\n",
       " 0.2044526143790849,\n",
       " 0.21772875816993464,\n",
       " 0.21098856209150318,\n",
       " 0.21425653594771243,\n",
       " 0.1975081699346406,\n",
       " 0.1881127450980392,\n",
       " 0.17851307189542487,\n",
       " 0.17381535947712412,\n",
       " 0.16033496732026142,\n",
       " 0.16564542483660127,\n",
       " 0.1711601307189542,\n",
       " 0.17422385620915026,\n",
       " 0.1803513071895424,\n",
       " 0.1740196078431372,\n",
       " 0.16278594771241828,\n",
       " 0.1697303921568627,\n",
       " 0.17810457516339862,\n",
       " 0.1703431372549019,\n",
       " 0.16830065359477125,\n",
       " 0.17279411764705876,\n",
       " 0.1754493464052288,\n",
       " 0.18382352941176472,\n",
       " 0.19138071895424835,\n",
       " 0.18913398692810457,\n",
       " 0.1909722222222222,\n",
       " 0.17238562091503273,\n",
       " 0.16830065359477125,\n",
       " 0.16932189542483655,\n",
       " 0.1717728758169934,\n",
       " 0.16156045751633985,\n",
       " 0.14971405228758167,\n",
       " 0.15032679738562088,\n",
       " 0.1519607843137255,\n",
       " 0.1472630718954248,\n",
       " 0.14501633986928103,\n",
       " 0.14603758169934639,\n",
       " 0.12479575163398693,\n",
       " 0.13112745098039214,\n",
       " 0.11397058823529405,\n",
       " 0.11907679738562088,\n",
       " 0.12377450980392157,\n",
       " 0.13562091503267976,\n",
       " 0.12908496732026142,\n",
       " 0.1345996732026144,\n",
       " 0.12806372549019607,\n",
       " 0.13031045751633985,\n",
       " 0.12724673202614373,\n",
       " 0.13521241830065356,\n",
       " 0.1452205882352941,\n",
       " 0.15257352941176466,\n",
       " 0.14848856209150324,\n",
       " 0.14338235294117646,\n",
       " 0.14562908496732024,\n",
       " 0.1523692810457516,\n",
       " 0.15400326797385622,\n",
       " 0.14971405228758167,\n",
       " 0.16217320261437906,\n",
       " 0.16319444444444448,\n",
       " 0.16584967320261434]"
      ]
     },
     "execution_count": 37,
     "metadata": {},
     "output_type": "execute_result"
    }
   ],
   "source": [
    "temp_input=list(x_input)\n",
    "temp_input=temp_input[0].tolist()\n",
    "temp_input"
   ]
  },
  {
   "cell_type": "code",
   "execution_count": 39,
   "id": "ec248a1c",
   "metadata": {},
   "outputs": [
    {
     "name": "stdout",
     "output_type": "stream",
     "text": [
      "0 day input [0.16156046 0.14971405 0.1503268  0.15196078 0.14726307 0.14501634\n",
      " 0.14603758 0.12479575 0.13112745 0.11397059 0.1190768  0.12377451\n",
      " 0.13562092 0.12908497 0.13459967 0.12806373 0.13031046 0.12724673\n",
      " 0.13521242 0.14522059 0.15257353 0.14848856 0.14338235 0.14562908\n",
      " 0.15236928 0.15400327 0.14971405 0.1621732  0.16319444 0.16584967]\n",
      "0 day input [[0.37917832]]\n",
      "1 day input [0.14971405 0.1503268  0.15196078 0.14726307 0.14501634 0.14603758\n",
      " 0.12479575 0.13112745 0.11397059 0.1190768  0.12377451 0.13562092\n",
      " 0.12908497 0.13459967 0.12806373 0.13031046 0.12724673 0.13521242\n",
      " 0.14522059 0.15257353 0.14848856 0.14338235 0.14562908 0.15236928\n",
      " 0.15400327 0.14971405 0.1621732  0.16319444 0.16584967 0.37917832]\n",
      "1 day input [[0.38129038]]\n",
      "2 day input [0.1503268  0.15196078 0.14726307 0.14501634 0.14603758 0.12479575\n",
      " 0.13112745 0.11397059 0.1190768  0.12377451 0.13562092 0.12908497\n",
      " 0.13459967 0.12806373 0.13031046 0.12724673 0.13521242 0.14522059\n",
      " 0.15257353 0.14848856 0.14338235 0.14562908 0.15236928 0.15400327\n",
      " 0.14971405 0.1621732  0.16319444 0.16584967 0.37917832 0.38129038]\n",
      "2 day input [[0.3853392]]\n",
      "3 day input [0.15196078 0.14726307 0.14501634 0.14603758 0.12479575 0.13112745\n",
      " 0.11397059 0.1190768  0.12377451 0.13562092 0.12908497 0.13459967\n",
      " 0.12806373 0.13031046 0.12724673 0.13521242 0.14522059 0.15257353\n",
      " 0.14848856 0.14338235 0.14562908 0.15236928 0.15400327 0.14971405\n",
      " 0.1621732  0.16319444 0.16584967 0.37917832 0.38129038 0.3853392 ]\n",
      "3 day input [[0.3913825]]\n",
      "4 day input [0.14726307 0.14501634 0.14603758 0.12479575 0.13112745 0.11397059\n",
      " 0.1190768  0.12377451 0.13562092 0.12908497 0.13459967 0.12806373\n",
      " 0.13031046 0.12724673 0.13521242 0.14522059 0.15257353 0.14848856\n",
      " 0.14338235 0.14562908 0.15236928 0.15400327 0.14971405 0.1621732\n",
      " 0.16319444 0.16584967 0.37917832 0.38129038 0.3853392  0.39138249]\n",
      "4 day input [[0.39937606]]\n",
      "5 day input [0.14501634 0.14603758 0.12479575 0.13112745 0.11397059 0.1190768\n",
      " 0.12377451 0.13562092 0.12908497 0.13459967 0.12806373 0.13031046\n",
      " 0.12724673 0.13521242 0.14522059 0.15257353 0.14848856 0.14338235\n",
      " 0.14562908 0.15236928 0.15400327 0.14971405 0.1621732  0.16319444\n",
      " 0.16584967 0.37917832 0.38129038 0.3853392  0.39138249 0.39937606]\n",
      "5 day input [[0.40921178]]\n",
      "6 day input [0.14603758 0.12479575 0.13112745 0.11397059 0.1190768  0.12377451\n",
      " 0.13562092 0.12908497 0.13459967 0.12806373 0.13031046 0.12724673\n",
      " 0.13521242 0.14522059 0.15257353 0.14848856 0.14338235 0.14562908\n",
      " 0.15236928 0.15400327 0.14971405 0.1621732  0.16319444 0.16584967\n",
      " 0.37917832 0.38129038 0.3853392  0.39138249 0.39937606 0.40921178]\n",
      "6 day input [[0.4206105]]\n",
      "7 day input [0.12479575 0.13112745 0.11397059 0.1190768  0.12377451 0.13562092\n",
      " 0.12908497 0.13459967 0.12806373 0.13031046 0.12724673 0.13521242\n",
      " 0.14522059 0.15257353 0.14848856 0.14338235 0.14562908 0.15236928\n",
      " 0.15400327 0.14971405 0.1621732  0.16319444 0.16584967 0.37917832\n",
      " 0.38129038 0.3853392  0.39138249 0.39937606 0.40921178 0.42061049]\n",
      "7 day input [[0.43326458]]\n",
      "8 day input [0.13112745 0.11397059 0.1190768  0.12377451 0.13562092 0.12908497\n",
      " 0.13459967 0.12806373 0.13031046 0.12724673 0.13521242 0.14522059\n",
      " 0.15257353 0.14848856 0.14338235 0.14562908 0.15236928 0.15400327\n",
      " 0.14971405 0.1621732  0.16319444 0.16584967 0.37917832 0.38129038\n",
      " 0.3853392  0.39138249 0.39937606 0.40921178 0.42061049 0.43326458]\n",
      "8 day input [[0.44713363]]\n",
      "9 day input [0.11397059 0.1190768  0.12377451 0.13562092 0.12908497 0.13459967\n",
      " 0.12806373 0.13031046 0.12724673 0.13521242 0.14522059 0.15257353\n",
      " 0.14848856 0.14338235 0.14562908 0.15236928 0.15400327 0.14971405\n",
      " 0.1621732  0.16319444 0.16584967 0.37917832 0.38129038 0.3853392\n",
      " 0.39138249 0.39937606 0.40921178 0.42061049 0.43326458 0.44713363]\n",
      "9 day input [[0.461669]]\n",
      "10 day input [0.1190768  0.12377451 0.13562092 0.12908497 0.13459967 0.12806373\n",
      " 0.13031046 0.12724673 0.13521242 0.14522059 0.15257353 0.14848856\n",
      " 0.14338235 0.14562908 0.15236928 0.15400327 0.14971405 0.1621732\n",
      " 0.16319444 0.16584967 0.37917832 0.38129038 0.3853392  0.39138249\n",
      " 0.39937606 0.40921178 0.42061049 0.43326458 0.44713363 0.461669  ]\n",
      "10 day input [[0.47690207]]\n",
      "11 day input [0.12377451 0.13562092 0.12908497 0.13459967 0.12806373 0.13031046\n",
      " 0.12724673 0.13521242 0.14522059 0.15257353 0.14848856 0.14338235\n",
      " 0.14562908 0.15236928 0.15400327 0.14971405 0.1621732  0.16319444\n",
      " 0.16584967 0.37917832 0.38129038 0.3853392  0.39138249 0.39937606\n",
      " 0.40921178 0.42061049 0.43326458 0.44713363 0.461669   0.47690207]\n",
      "11 day input [[0.49241403]]\n",
      "12 day input [0.13562092 0.12908497 0.13459967 0.12806373 0.13031046 0.12724673\n",
      " 0.13521242 0.14522059 0.15257353 0.14848856 0.14338235 0.14562908\n",
      " 0.15236928 0.15400327 0.14971405 0.1621732  0.16319444 0.16584967\n",
      " 0.37917832 0.38129038 0.3853392  0.39138249 0.39937606 0.40921178\n",
      " 0.42061049 0.43326458 0.44713363 0.461669   0.47690207 0.49241403]\n",
      "12 day input [[0.5080738]]\n",
      "13 day input [0.12908497 0.13459967 0.12806373 0.13031046 0.12724673 0.13521242\n",
      " 0.14522059 0.15257353 0.14848856 0.14338235 0.14562908 0.15236928\n",
      " 0.15400327 0.14971405 0.1621732  0.16319444 0.16584967 0.37917832\n",
      " 0.38129038 0.3853392  0.39138249 0.39937606 0.40921178 0.42061049\n",
      " 0.43326458 0.44713363 0.461669   0.47690207 0.49241403 0.50807381]\n",
      "13 day input [[0.52370566]]\n",
      "14 day input [0.13459967 0.12806373 0.13031046 0.12724673 0.13521242 0.14522059\n",
      " 0.15257353 0.14848856 0.14338235 0.14562908 0.15236928 0.15400327\n",
      " 0.14971405 0.1621732  0.16319444 0.16584967 0.37917832 0.38129038\n",
      " 0.3853392  0.39138249 0.39937606 0.40921178 0.42061049 0.43326458\n",
      " 0.44713363 0.461669   0.47690207 0.49241403 0.50807381 0.52370566]\n",
      "14 day input [[0.5394066]]\n",
      "15 day input [0.12806373 0.13031046 0.12724673 0.13521242 0.14522059 0.15257353\n",
      " 0.14848856 0.14338235 0.14562908 0.15236928 0.15400327 0.14971405\n",
      " 0.1621732  0.16319444 0.16584967 0.37917832 0.38129038 0.3853392\n",
      " 0.39138249 0.39937606 0.40921178 0.42061049 0.43326458 0.44713363\n",
      " 0.461669   0.47690207 0.49241403 0.50807381 0.52370566 0.5394066 ]\n",
      "15 day input [[0.554982]]\n",
      "16 day input [0.13031046 0.12724673 0.13521242 0.14522059 0.15257353 0.14848856\n",
      " 0.14338235 0.14562908 0.15236928 0.15400327 0.14971405 0.1621732\n",
      " 0.16319444 0.16584967 0.37917832 0.38129038 0.3853392  0.39138249\n",
      " 0.39937606 0.40921178 0.42061049 0.43326458 0.44713363 0.461669\n",
      " 0.47690207 0.49241403 0.50807381 0.52370566 0.5394066  0.55498201]\n",
      "16 day input [[0.5704911]]\n",
      "17 day input [0.12724673 0.13521242 0.14522059 0.15257353 0.14848856 0.14338235\n",
      " 0.14562908 0.15236928 0.15400327 0.14971405 0.1621732  0.16319444\n",
      " 0.16584967 0.37917832 0.38129038 0.3853392  0.39138249 0.39937606\n",
      " 0.40921178 0.42061049 0.43326458 0.44713363 0.461669   0.47690207\n",
      " 0.49241403 0.50807381 0.52370566 0.5394066  0.55498201 0.57049108]\n",
      "17 day input [[0.5858009]]\n",
      "18 day input [0.13521242 0.14522059 0.15257353 0.14848856 0.14338235 0.14562908\n",
      " 0.15236928 0.15400327 0.14971405 0.1621732  0.16319444 0.16584967\n",
      " 0.37917832 0.38129038 0.3853392  0.39138249 0.39937606 0.40921178\n",
      " 0.42061049 0.43326458 0.44713363 0.461669   0.47690207 0.49241403\n",
      " 0.50807381 0.52370566 0.5394066  0.55498201 0.57049108 0.58580089]\n",
      "18 day input [[0.6009259]]\n",
      "19 day input [0.14522059 0.15257353 0.14848856 0.14338235 0.14562908 0.15236928\n",
      " 0.15400327 0.14971405 0.1621732  0.16319444 0.16584967 0.37917832\n",
      " 0.38129038 0.3853392  0.39138249 0.39937606 0.40921178 0.42061049\n",
      " 0.43326458 0.44713363 0.461669   0.47690207 0.49241403 0.50807381\n",
      " 0.52370566 0.5394066  0.55498201 0.57049108 0.58580089 0.60092592]\n",
      "19 day input [[0.6157405]]\n",
      "20 day input [0.15257353 0.14848856 0.14338235 0.14562908 0.15236928 0.15400327\n",
      " 0.14971405 0.1621732  0.16319444 0.16584967 0.37917832 0.38129038\n",
      " 0.3853392  0.39138249 0.39937606 0.40921178 0.42061049 0.43326458\n",
      " 0.44713363 0.461669   0.47690207 0.49241403 0.50807381 0.52370566\n",
      " 0.5394066  0.55498201 0.57049108 0.58580089 0.60092592 0.61574048]\n",
      "20 day input [[0.63021827]]\n",
      "21 day input [0.14848856 0.14338235 0.14562908 0.15236928 0.15400327 0.14971405\n",
      " 0.1621732  0.16319444 0.16584967 0.37917832 0.38129038 0.3853392\n",
      " 0.39138249 0.39937606 0.40921178 0.42061049 0.43326458 0.44713363\n",
      " 0.461669   0.47690207 0.49241403 0.50807381 0.52370566 0.5394066\n",
      " 0.55498201 0.57049108 0.58580089 0.60092592 0.61574048 0.63021827]\n",
      "21 day input [[0.64437556]]\n",
      "22 day input [0.14338235 0.14562908 0.15236928 0.15400327 0.14971405 0.1621732\n",
      " 0.16319444 0.16584967 0.37917832 0.38129038 0.3853392  0.39138249\n",
      " 0.39937606 0.40921178 0.42061049 0.43326458 0.44713363 0.461669\n",
      " 0.47690207 0.49241403 0.50807381 0.52370566 0.5394066  0.55498201\n",
      " 0.57049108 0.58580089 0.60092592 0.61574048 0.63021827 0.64437556]\n",
      "22 day input [[0.6582947]]\n",
      "23 day input [0.14562908 0.15236928 0.15400327 0.14971405 0.1621732  0.16319444\n",
      " 0.16584967 0.37917832 0.38129038 0.3853392  0.39138249 0.39937606\n",
      " 0.40921178 0.42061049 0.43326458 0.44713363 0.461669   0.47690207\n",
      " 0.49241403 0.50807381 0.52370566 0.5394066  0.55498201 0.57049108\n",
      " 0.58580089 0.60092592 0.61574048 0.63021827 0.64437556 0.65829468]\n"
     ]
    },
    {
     "name": "stdout",
     "output_type": "stream",
     "text": [
      "23 day input [[0.6719601]]\n",
      "24 day input [0.15236928 0.15400327 0.14971405 0.1621732  0.16319444 0.16584967\n",
      " 0.37917832 0.38129038 0.3853392  0.39138249 0.39937606 0.40921178\n",
      " 0.42061049 0.43326458 0.44713363 0.461669   0.47690207 0.49241403\n",
      " 0.50807381 0.52370566 0.5394066  0.55498201 0.57049108 0.58580089\n",
      " 0.60092592 0.61574048 0.63021827 0.64437556 0.65829468 0.67196012]\n",
      "24 day input [[0.6852958]]\n",
      "25 day input [0.15400327 0.14971405 0.1621732  0.16319444 0.16584967 0.37917832\n",
      " 0.38129038 0.3853392  0.39138249 0.39937606 0.40921178 0.42061049\n",
      " 0.43326458 0.44713363 0.461669   0.47690207 0.49241403 0.50807381\n",
      " 0.52370566 0.5394066  0.55498201 0.57049108 0.58580089 0.60092592\n",
      " 0.61574048 0.63021827 0.64437556 0.65829468 0.67196012 0.68529582]\n",
      "25 day input [[0.6982613]]\n",
      "26 day input [0.14971405 0.1621732  0.16319444 0.16584967 0.37917832 0.38129038\n",
      " 0.3853392  0.39138249 0.39937606 0.40921178 0.42061049 0.43326458\n",
      " 0.44713363 0.461669   0.47690207 0.49241403 0.50807381 0.52370566\n",
      " 0.5394066  0.55498201 0.57049108 0.58580089 0.60092592 0.61574048\n",
      " 0.63021827 0.64437556 0.65829468 0.67196012 0.68529582 0.69826132]\n",
      "26 day input [[0.7108923]]\n",
      "27 day input [0.1621732  0.16319444 0.16584967 0.37917832 0.38129038 0.3853392\n",
      " 0.39138249 0.39937606 0.40921178 0.42061049 0.43326458 0.44713363\n",
      " 0.461669   0.47690207 0.49241403 0.50807381 0.52370566 0.5394066\n",
      " 0.55498201 0.57049108 0.58580089 0.60092592 0.61574048 0.63021827\n",
      " 0.64437556 0.65829468 0.67196012 0.68529582 0.69826132 0.71089232]\n",
      "27 day input [[0.7232222]]\n",
      "28 day input [0.16319444 0.16584967 0.37917832 0.38129038 0.3853392  0.39138249\n",
      " 0.39937606 0.40921178 0.42061049 0.43326458 0.44713363 0.461669\n",
      " 0.47690207 0.49241403 0.50807381 0.52370566 0.5394066  0.55498201\n",
      " 0.57049108 0.58580089 0.60092592 0.61574048 0.63021827 0.64437556\n",
      " 0.65829468 0.67196012 0.68529582 0.69826132 0.71089232 0.7232222 ]\n",
      "28 day input [[0.7351255]]\n",
      "29 day input [0.16584967 0.37917832 0.38129038 0.3853392  0.39138249 0.39937606\n",
      " 0.40921178 0.42061049 0.43326458 0.44713363 0.461669   0.47690207\n",
      " 0.49241403 0.50807381 0.52370566 0.5394066  0.55498201 0.57049108\n",
      " 0.58580089 0.60092592 0.61574048 0.63021827 0.64437556 0.65829468\n",
      " 0.67196012 0.68529582 0.69826132 0.71089232 0.7232222  0.73512548]\n",
      "29 day input [[0.7466865]]\n",
      "[[0.37917831540107727], [0.38129037618637085], [0.3853392004966736], [0.39138248562812805], [0.3993760645389557], [0.40921178460121155], [0.4206104874610901], [0.4332645833492279], [0.4471336305141449], [0.461668998003006], [0.4769020676612854], [0.49241402745246887], [0.5080738067626953], [0.5237056612968445], [0.5394065976142883], [0.5549820065498352], [0.5704910755157471], [0.5858008861541748], [0.6009259223937988], [0.6157404780387878], [0.6302182674407959], [0.6443755626678467], [0.658294677734375], [0.6719601154327393], [0.685295820236206], [0.6982613205909729], [0.7108923196792603], [0.7232221961021423], [0.7351254820823669], [0.7466865181922913]]\n"
     ]
    }
   ],
   "source": [
    "# Prediction the next 30 days using a trained machine learning model.\n",
    "\n",
    "from numpy import array\n",
    "\n",
    "lst_output=[]\n",
    "i=0\n",
    "n_steps=30\n",
    "while(i<30):\n",
    "    \n",
    "    if(len(temp_input)>=n_steps):\n",
    "        #print(temp_input)\n",
    "        x_input=np.array(temp_input[-n_steps:])\n",
    "        print(\"{} day input {}\".format(i,x_input))\n",
    "        x_input=x_input.reshape(1,-1)\n",
    "        x_input = x_input.reshape((1, n_steps, 1))\n",
    "        # print(x_input)\n",
    "        yhat = model.predict(x_input, verbose=0)\n",
    "        print(\"{} day input {}\".format(i,yhat))\n",
    "        temp_input.extend(yhat[0].tolist())\n",
    "        # print(temp_input)\n",
    "        lst_output.extend(yhat.tolist())\n",
    "        i=i+1\n",
    "    else:\n",
    "        x_input = np.array(temp_input)\n",
    "        x_input = x_input.reshape((1, len(temp_input), 1))\n",
    "        yhat = model.predict(x_input, verbose=0)\n",
    "        print(\"{} day input {}\".format(i,yhat))\n",
    "        temp_input.extend(yhat[0].tolist())\n",
    "        # print(temp_input)\n",
    "        lst_output.extend(yhat.tolist())\n",
    "        i=i+1\n",
    "        \n",
    "print(lst_output)\n",
    "\n"
   ]
  },
  {
   "cell_type": "code",
   "execution_count": 40,
   "id": "83c8783f",
   "metadata": {},
   "outputs": [],
   "source": [
    " day_new=np.arange(1,101)\n",
    " day_predict =np.arange(101,131)\n",
    "\n",
    "    "
   ]
  },
  {
   "cell_type": "code",
   "execution_count": 41,
   "id": "361f41e4",
   "metadata": {},
   "outputs": [
    {
     "data": {
      "text/plain": [
       "2035"
      ]
     },
     "execution_count": 41,
     "metadata": {},
     "output_type": "execute_result"
    }
   ],
   "source": [
    "len(df1)"
   ]
  },
  {
   "cell_type": "code",
   "execution_count": 42,
   "id": "a75818b3",
   "metadata": {},
   "outputs": [],
   "source": [
    "df3=df1.tolist()\n",
    "df3.extend(lst_output)"
   ]
  },
  {
   "cell_type": "code",
   "execution_count": null,
   "id": "097decf8",
   "metadata": {},
   "outputs": [],
   "source": [
    "#  plot two lines: one representing the historical stock prices for a particular company, \n",
    "#  and another representing the predicted stock prices for the next 30 days."
   ]
  },
  {
   "cell_type": "code",
   "execution_count": 43,
   "id": "848b9ad6",
   "metadata": {},
   "outputs": [
    {
     "data": {
      "text/plain": [
       "[<matplotlib.lines.Line2D at 0x2441ca75ea0>]"
      ]
     },
     "execution_count": 43,
     "metadata": {},
     "output_type": "execute_result"
    },
    {
     "data": {
      "image/png": "[encoded data removed]",
      "text/plain": [
       "<Figure size 640x480 with 1 Axes>"
      ]
     },
     "metadata": {},
     "output_type": "display_data"
    }
   ],
   "source": [
    "plt.plot(day_new,Scaler.inverse_transform(df1[1935:]),color=\"g\")\n",
    "plt.plot(day_predict,Scaler.inverse_transform(lst_output))"
   ]
  },
  {
   "cell_type": "code",
   "execution_count": null,
   "id": "ea9b2569",
   "metadata": {},
   "outputs": [],
   "source": [
    "# The resulting plot shows the historical and predicted stock prices for the company over time. \n",
    "# The red line represents the combined historical and predicted prices"
   ]
  },
  {
   "cell_type": "code",
   "execution_count": 51,
   "id": "05ada792",
   "metadata": {},
   "outputs": [
    {
     "data": {
      "text/plain": [
       "[<matplotlib.lines.Line2D at 0x2441dead2a0>]"
      ]
     },
     "execution_count": 51,
     "metadata": {},
     "output_type": "execute_result"
    },
    {
     "data": {
      "image/png": "[encoded data removed]",
      "text/plain": [
       "<Figure size 640x480 with 1 Axes>"
      ]
     },
     "metadata": {},
     "output_type": "display_data"
    }
   ],
   "source": [
    "df3=df1.tolist()\n",
    "df3.extend(lst_output)\n",
    "plt.plot(df3[1500:],color=\"r\")"
   ]
  },
  {
   "cell_type": "code",
   "execution_count": 45,
   "id": "eeeef218",
   "metadata": {},
   "outputs": [],
   "source": [
    "df3=Scaler.inverse_transform(df3).tolist()"
   ]
  },
  {
   "cell_type": "code",
   "execution_count": 46,
   "id": "eda2a83f",
   "metadata": {},
   "outputs": [
    {
     "data": {
      "text/plain": [
       "[<matplotlib.lines.Line2D at 0x2441db5e560>]"
      ]
     },
     "execution_count": 46,
     "metadata": {},
     "output_type": "execute_result"
    },
    {
     "data": {
      "image/png": "[encoded data removed]",
      "text/plain": [
       "<Figure size 640x480 with 1 Axes>"
      ]
     },
     "metadata": {},
     "output_type": "display_data"
    }
   ],
   "source": [
    "plt.plot(df3)"
   ]
  },
  {
   "cell_type": "markdown",
   "id": "d2b7dbfb",
   "metadata": {},
   "source": [
    "# Project (Task 1)\n",
    " Submitted by \n",
    " Deepak prajapat"
   ]
  },
  {
   "cell_type": "code",
   "execution_count": null,
   "id": "499ba068",
   "metadata": {},
   "outputs": [],
   "source": []
  }
 ],
 "metadata": {
  "kernelspec": {
   "display_name": "Python 3 (ipykernel)",
   "language": "python",
   "name": "python3"
  },
  "language_info": {
   "codemirror_mode": {
    "name": "ipython",
    "version": 3
   },
   "file_extension": ".py",
   "mimetype": "text/x-python",
   "name": "python",
   "nbconvert_exporter": "python",
   "pygments_lexer": "ipython3",
   "version": "3.10.6"
  }
 },
 "nbformat": 4,
 "nbformat_minor": 5
}
